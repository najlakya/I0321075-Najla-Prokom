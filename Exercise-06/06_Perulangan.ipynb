{
 "cells": [
  {
   "cell_type": "markdown",
   "metadata": {},
   "source": [
    "***\n",
    "<h1 align=\"center\">Exercise 06</h1>\n",
    " \n",
    "***\n",
    "## While Loop\n",
    "## Exercise 6.1\n",
    "isilah bagian rumpang berikut. xx diganti tanggal lahir dan yy diganti menjadi bulan lahir. tandanya menyesuaikan yang lebih besar."
   ]
  },
  {
   "cell_type": "code",
   "execution_count": 15,
   "metadata": {},
   "outputs": [
    {
     "name": "stdout",
     "output_type": "stream",
     "text": [
      "Only you can change your life\n",
      "Only you can change your life\n",
      "Only you can change your life\n",
      "Only you can change your life\n",
      "Only you can change your life\n",
      "Only you can change your life\n",
      "Only you can change your life\n",
      "Only you can change your life\n",
      "Only you can change your life\n",
      "Only you can change your life\n",
      "Only you can change your life\n",
      "Only you can change your life\n",
      "Only you can change your life\n",
      "Only you can change your life\n",
      "Only you can change your life\n",
      "Only you can change your life\n",
      "Only you can change your life\n"
     ]
    }
   ],
   "source": [
    "#menentukan banyak pengulangan\n",
    "n = 21\n",
    "\n",
    "#melakukan pengulangan\n",
    "i = 5\n",
    "\n",
    "while i <= n :\n",
    "    print (\"Only you can change your life\")\n",
    "    #diisi motto kalian\n",
    "    i = i + 1 # sesuaikan dengan atas agar fungsi perulangan dapat berhenti\n"
   ]
  },
  {
   "cell_type": "markdown",
   "metadata": {},
   "source": [
    "## Exercise 6.2\n",
    "\n",
    "Buatlah code seperti yang dicontohkan pada modul agar user dapat menginputkan sendiri jumlah n yang diinginkan"
   ]
  },
  {
   "cell_type": "code",
   "execution_count": 16,
   "metadata": {},
   "outputs": [
    {
     "name": "stdout",
     "output_type": "stream",
     "text": [
      "6\n",
      "7\n",
      "8\n",
      "9\n",
      "10\n"
     ]
    }
   ],
   "source": [
    "#Kerjakan disini\n",
    "n = int(input(\"Masukkan nilai n= \"))\n",
    "i = 6\n",
    "while i <= n:\n",
    "    print(i)\n",
    "    i = i + 1"
   ]
  },
  {
   "cell_type": "markdown",
   "metadata": {},
   "source": [
    "## Excercise 6.3\n",
    "\n",
    "isilah xx, yy, dan tanda rumpang seperti pada exercise 6.1\n"
   ]
  },
  {
   "cell_type": "code",
   "execution_count": 17,
   "metadata": {},
   "outputs": [
    {
     "name": "stdout",
     "output_type": "stream",
     "text": [
      "Baris ke-21 : Harry Potter\n",
      "Baris ke-20 : Harry Potter\n",
      "Baris ke-19 : Harry Potter\n",
      "Baris ke-18 : Harry Potter\n",
      "Baris ke-17 : Harry Potter\n",
      "Baris ke-16 : Harry Potter\n",
      "Baris ke-15 : Harry Potter\n",
      "Baris ke-14 : Harry Potter\n",
      "Baris ke-13 : Harry Potter\n",
      "Baris ke-12 : Harry Potter\n",
      "Baris ke-11 : Harry Potter\n",
      "Baris ke-10 : Harry Potter\n",
      "Baris ke-9 : Harry Potter\n",
      "Baris ke-8 : Harry Potter\n",
      "Baris ke-7 : Harry Potter\n",
      "Baris ke-6 : Harry Potter\n",
      "Baris ke-5 : Harry Potter\n"
     ]
    }
   ],
   "source": [
    "#melakukan pengulangan\n",
    "i = 21\n",
    "\n",
    "while i >= 5 :\n",
    "    print (\"Baris ke-%d : Harry Potter\"%i)\n",
    "    #isi titik-titik dengan judul film favorit kalian\n",
    "    i = i - 1 "
   ]
  },
  {
   "cell_type": "markdown",
   "metadata": {},
   "source": [
    "## FOR LOOP\n",
    "\n",
    "## Exercise 6.4\n",
    "\n",
    "munculkan 3 dari 7 elemen yang berada di dalam list1 dan list2\n"
   ]
  },
  {
   "cell_type": "code",
   "execution_count": 18,
   "metadata": {},
   "outputs": [
    {
     "name": "stdout",
     "output_type": "stream",
     "text": [
      "1 Mie Solo\n",
      "2 Gyudon Tokyo\n",
      "3 Cokelat Singapore\n"
     ]
    }
   ],
   "source": [
    "list1 = [\"Mie\", \"Gyudon\", \"Cokelat\", \"Steak\", \"Pizza\", \"Toast\", \"Burger\"] #masukkan 7 list makanan favorit kalian\n",
    "list2 = [\"Solo\", \"Tokyo\", \"Singapore\", \"London\", \"New York\", \"Sydney\", \"Hamburg\"] #masukkan 7 list kota favorit kalian\n",
    "\n",
    "for i in range(0,3) :\n",
    "    print(i+1, list1 [i] , list2[i])"
   ]
  },
  {
   "cell_type": "markdown",
   "metadata": {},
   "source": [
    "## Perulangan Bersarang\n",
    "\n",
    "## Exercise 6.5"
   ]
  },
  {
   "cell_type": "code",
   "execution_count": 19,
   "metadata": {},
   "outputs": [
    {
     "name": "stdout",
     "output_type": "stream",
     "text": [
      "441 \n",
      "420 400 \n",
      "399 380 361 \n",
      "378 360 342 324 \n",
      "357 340 323 306 289 \n",
      "336 320 304 288 272 256 \n",
      "315 300 285 270 255 240 225 \n",
      "294 280 266 252 238 224 210 196 \n",
      "273 260 247 234 221 208 195 182 169 \n",
      "252 240 228 216 204 192 180 168 156 144 \n",
      "231 220 209 198 187 176 165 154 143 132 121 \n",
      "210 200 190 180 170 160 150 140 130 120 110 100 \n",
      "189 180 171 162 153 144 135 126 117 108 99 90 81 \n",
      "168 160 152 144 136 128 120 112 104 96 88 80 72 64 \n",
      "147 140 133 126 119 112 105 98 91 84 77 70 63 56 49 \n",
      "126 120 114 108 102 96 90 84 78 72 66 60 54 48 42 36 \n",
      "105 100 95 90 85 80 75 70 65 60 55 50 45 40 35 30 25 \n"
     ]
    }
   ],
   "source": [
    "i = 21\n",
    "while i >= 5:\n",
    "    j = 21\n",
    "    while j>=i:\n",
    "        print(\"%d \" % (i*j), end = '')\n",
    "        j = j - 1\n",
    "    print()\n",
    "    i-=1"
   ]
  },
  {
   "cell_type": "markdown",
   "metadata": {},
   "source": [
    "## Pernyataan Loncat\n",
    "\n",
    "## Exercise 6.\n",
    "\n",
    "Buatlah fungsi berikut agar muncul angka hingga berhenti sesuai dengan nilai qq\n",
    "qq = angka favorit kalian\n",
    "pp>qq"
   ]
  },
  {
   "cell_type": "code",
   "execution_count": 20,
   "metadata": {},
   "outputs": [
    {
     "name": "stdout",
     "output_type": "stream",
     "text": [
      "01234567891011"
     ]
    }
   ],
   "source": [
    "for i in range(22):\n",
    "    print(i,end='')\n",
    "    if i == 11:\n",
    "        break"
   ]
  },
  {
   "cell_type": "markdown",
   "metadata": {},
   "source": [
    "***\n",
    "<h1 align=\"center\">WELL DONE</h1>\n",
    " \n",
    "***"
   ]
  }
 ],
 "metadata": {
  "interpreter": {
   "hash": "cd08f94adcf3cbae37fe85286256f4c2a10455ca9094fd053e9f3d3f09647223"
  },
  "kernelspec": {
   "display_name": "Python 3.9.7 64-bit",
   "language": "python",
   "name": "python3"
  },
  "language_info": {
   "codemirror_mode": {
    "name": "ipython",
    "version": 3
   },
   "file_extension": ".py",
   "mimetype": "text/x-python",
   "name": "python",
   "nbconvert_exporter": "python",
   "pygments_lexer": "ipython3",
   "version": "3.9.7"
  },
  "orig_nbformat": 4
 },
 "nbformat": 4,
 "nbformat_minor": 2
}
